{
  "nbformat": 4,
  "nbformat_minor": 0,
  "metadata": {
    "colab": {
      "name": "SW출석체크.ipynb",
      "provenance": [],
      "collapsed_sections": [],
      "toc_visible": true,
      "include_colab_link": true
    },
    "kernelspec": {
      "name": "python3",
      "display_name": "Python 3"
    }
  },
  "cells": [
    {
      "cell_type": "markdown",
      "metadata": {
        "id": "view-in-github",
        "colab_type": "text"
      },
      "source": [
        "<a href=\"https://colab.research.google.com/github/hamdoong222/Algorithm/blob/master/SW%EC%B6%9C%EC%84%9D%EC%B2%B4%ED%81%AC.ipynb\" target=\"_parent\"><img src=\"https://colab.research.google.com/assets/colab-badge.svg\" alt=\"Open In Colab\"/></a>"
      ]
    },
    {
      "cell_type": "code",
      "metadata": {
        "id": "xFpJ98LkRKuV",
        "colab_type": "code",
        "colab": {
          "base_uri": "https://localhost:8080/",
          "height": 34
        },
        "outputId": "d2df0cae-990e-4d0f-daa7-c56d39aff97e"
      },
      "source": [
        "from google.colab import drive\n",
        "drive.mount('/content/drive/')"
      ],
      "execution_count": null,
      "outputs": [
        {
          "output_type": "stream",
          "text": [
            "Mounted at /content/drive/\n"
          ],
          "name": "stdout"
        }
      ]
    },
    {
      "cell_type": "markdown",
      "metadata": {
        "id": "vm-tjMBCunxk",
        "colab_type": "text"
      },
      "source": [
        ""
      ]
    },
    {
      "cell_type": "code",
      "metadata": {
        "id": "40QPjYiE1Gp8",
        "colab_type": "code",
        "colab": {
          "base_uri": "https://localhost:8080/",
          "height": 34
        },
        "outputId": "7a279157-2896-4171-f51b-6d02fad56f5e"
      },
      "source": [
        "cd '/content/drive/My Drive/SW리더십세미나출석체크/student_list'"
      ],
      "execution_count": null,
      "outputs": [
        {
          "output_type": "stream",
          "text": [
            "/content/drive/My Drive/SW리더십세미나출석체크/student_list\n"
          ],
          "name": "stdout"
        }
      ]
    },
    {
      "cell_type": "code",
      "metadata": {
        "id": "lXwhkdltS0OK",
        "colab_type": "code",
        "colab": {
          "base_uri": "https://localhost:8080/",
          "height": 70
        },
        "outputId": "2cef378b-565e-4a18-e23a-a343cf515ddd"
      },
      "source": [
        "!pip install openpyxl"
      ],
      "execution_count": null,
      "outputs": [
        {
          "output_type": "stream",
          "text": [
            "Requirement already satisfied: openpyxl in /usr/local/lib/python3.6/dist-packages (2.5.9)\n",
            "Requirement already satisfied: et-xmlfile in /usr/local/lib/python3.6/dist-packages (from openpyxl) (1.0.1)\n",
            "Requirement already satisfied: jdcal in /usr/local/lib/python3.6/dist-packages (from openpyxl) (1.4.1)\n"
          ],
          "name": "stdout"
        }
      ]
    },
    {
      "cell_type": "code",
      "metadata": {
        "id": "FVqT3l4-2Q9H",
        "colab_type": "code",
        "colab": {}
      },
      "source": [
        "import csv"
      ],
      "execution_count": null,
      "outputs": []
    },
    {
      "cell_type": "markdown",
      "metadata": {
        "id": "IjbNBptwROtS",
        "colab_type": "text"
      },
      "source": [
        "#**수강생 목록 출력(출석체크 시에는 필요없음)**"
      ]
    },
    {
      "cell_type": "code",
      "metadata": {
        "id": "NKJvnW8ERbeg",
        "colab_type": "code",
        "colab": {}
      },
      "source": [
        "from openpyxl import load_workbook"
      ],
      "execution_count": null,
      "outputs": []
    },
    {
      "cell_type": "code",
      "metadata": {
        "id": "vN3JnFuwS8Q0",
        "colab_type": "code",
        "colab": {}
      },
      "source": [
        "load_wb=load_workbook('SW리더십세미나I(01)_participants.xlsx', data_only=True)"
      ],
      "execution_count": null,
      "outputs": []
    },
    {
      "cell_type": "code",
      "metadata": {
        "id": "2dlCKwHKTL63",
        "colab_type": "code",
        "colab": {}
      },
      "source": [
        "student1_xlsx=load_wb[\"Sheet1\"]"
      ],
      "execution_count": null,
      "outputs": []
    },
    {
      "cell_type": "code",
      "metadata": {
        "id": "aJ2HRBSlTpL8",
        "colab_type": "code",
        "colab": {
          "base_uri": "https://localhost:8080/",
          "height": 54
        },
        "outputId": "5c953983-f552-43a2-ef81-1ad74e25f61d"
      },
      "source": [
        "seminar1_student_list=[]\n",
        "\n",
        "for row in student1_xlsx.rows:\n",
        "  row_value=[]\n",
        "  for cell in row:\n",
        "    row_value.append(cell.value)\n",
        "  seminar1_student_list.append([row_value[3],row_value[4],row_value[6]])\n",
        "  \n",
        "\n",
        "print(seminar1_student_list)"
      ],
      "execution_count": null,
      "outputs": [
        {
          "output_type": "stream",
          "text": [
            "[['학번', '이름', '이메일 주소'], ['154197', '김현수', 'hieonn@ewha.ac.kr'], ['1771015', '김유진', 'komgi0715@ewhain.net'], ['1876343', '장보미', 'bonita99@ewhain.net'], ['1871092', '이정하', 'jmirrinae@ewhain.net'], ['1770031', '박영빈', 'pybin97@ewhain.net'], ['1817022', '조이린', 'pinkyirene@ewhain.net'], ['1871057', '현오주', 'ohjoo1212@ewhain.net'], ['1729033', '조은서', 'eunsuh753@ewhain.net'], ['1771020', '노태경', 'wrtk007@ewhain.net'], ['1771034', '심주영', 'angela0107@ewhain.net'], ['1773132', '이다해', 'haeda25@ewhain.net'], ['1770097', '전예진', 'figure97@ewhain.net'], ['1890067', '조은희', 'correcter@ewhain.net'], ['1871002', '권정솔', 'lop080@ewhain.net'], ['1871043', '이하경', 'lhky0708@ewhain.net'], ['1871050', '정수현', 'sjue23@ewhain.net'], ['1876007', '고승희', 'bookshelf1234@ewhain.net'], ['1876127', '류서영', 'ryp1006@ewhain.net'], ['1876371', '정아연', 'ribbon0529@ewhain.net'], ['1871060', '고은', 'koeun0712@ewhain.net'], ['1842058', '공지나', 'kongjn@ewhain.net'], ['1868008', '윤하영', 'dbsgkdud136@ewhain.net'], ['1876379', '정해인', 'sungshin52@ewhain.net'], ['1921030', '박희진', 'dongdong7251@ewhain.net'], ['1921061', '최영은', 'y_e_99@ewhain.net'], ['1922006', '권영경', 'himtows@ewhain.net'], ['1922058', '전다윤', 'dayoon0836@ewhain.net'], ['1983024', '최민교', 'mgqueen930@ewhain.net'], ['1994046', '박나희', 'jessica396@ewhain.net'], ['1928016', '박채린', 'chrpark11@ewhain.net'], ['1928017', '서수경', 'sukyeongseo@ewhain.net'], ['1928019', '오수현', 'soo._.hyeon@ewhain.net'], ['1929013', '김현서', 'carpe_diem1004@ewhain.net'], ['1929038', '허서준', 'schweppes1227@ewhain.net'], ['1930022', '최하원', 'chw10190@ewhain.net'], ['1917015', '박지수', 'wltn@ewhain.net'], ['1971002', '강민지', 'mminjg@ewhain.net'], ['1971003', '강예진', 'yejin395@ewhain.net'], ['1971004', '고주은', 'kjunewha@ewhain.net'], ['1971005', '권민아', 'min2010011@ewhain.net'], ['1971006', '권보경', 'ma80424@ewhain.net'], ['1971007', '김시정', 'ssonge413@ewhain.net'], ['1971009', '김민주', 'fantasi2000@ewhain.net'], ['1971011', '김수민', 'soomin0219@ewhain.net'], ['1971014', '김예린', 'yerin1103@ewhain.net'], ['1971015', '김은서', 'silver4550@ewhain.net'], ['1971018', '문수인', 'mmddui@ewhain.net'], ['1971019', '박주은', '1971019@ewhain.net'], ['1971022', '박채영', 'chaezero@ewhain.net'], ['1971026', '성아정', 'azng1217@ewhain.net'], ['1971030', '유현정', 'yhyeonjg@ewhain.net'], ['1971031', '이가영', 'dlrk2258@ewhain.net'], ['1971032', '이로운', 'leerhoan@ewhain.net'], ['1971034', '이소정', 'kather0220@ewhain.net'], ['1971035', '이소진', 'isjift55@ewhain.net'], ['1971040', '이현정', 'leehj000920@ewhain.net'], ['1971041', '이희원', 'heewonlee@ewhain.net'], ['1971044', '정희수', 'gml12tn@ewhain.net'], ['1971048', '지현숙', 'izz_m2@ewhain.net'], ['1971050', '최민지', 'chlals0219@ewhain.net'], ['1971051', '최수정', 'tku5mklf@ewhain.net'], ['1971052', '최예원', 'yewonchoi@ewhain.net'], ['1971053', '최예은', 'swcye@ewhain.net'], ['1971054', '최지민', 'o3o0903@ewhain.net'], ['1971055', '한다현', 'ekgus9701@ewhain.net'], ['1971056', '허혜민', 'eclips@ewhain.net'], ['1971058', '홍진서', 'hong_jinseo@ewhain.net'], ['1976006', '강수민', 'christie5430@ewhain.net'], ['1976018', '구해인', 'haein0405@ewhain.net'], ['1976053', '김민주', '0112km@ewhain.net'], ['1976123', '맹수연', 'msuyun1010@ewhain.net'], ['1976125', '문정빈', 'raininthespace@ewhain.net'], ['1976128', '민경원', 'mkkw0207@ewhain.net'], ['1976141', '박수연', 'sxxyxxn75@ewhain.net'], ['1976183', '변아름', 'arm0258@ewhain.net'], ['1976191', '성예진', 'sgsddd0303@ewhain.net'], ['1976196', '손효원', 'hyowon9964@ewhain.net'], ['1976202', '신다영', 'sdy9809@ewhain.net'], ['1976220', '안정민', 'anjeongmin05@ewhain.net'], ['1976244', '유영민', 'estherliu919@ewhain.net'], ['1976255', '윤하은', 'hahaha329@ewhain.net'], ['1976297', '이유림', 'toulim0525@ewhain.net'], ['1976322', '이채은', 'f4t4l1t3@ewhain.net'], ['1976333', '임채민', 'cmlim0077@ewhain.net'], ['1976336', '장민지', 'wkdalswl77@ewhain.net'], ['1976343', '장재원', 'oneon8@ewhain.net'], ['1976346', '장한나', 'jhn0125@ewhain.net'], ['1976355', '정수진', 'tnwls2316@ewhain.net'], ['1976371', '조서영', 'stellamore99@ewhain.net'], ['1976377', '조하연', 'johayeon@ewhain.net'], ['1976410', '하수민', 'minha62@ewhain.net'], ['1976411', '하승진', 'hastar2027@ewhain.net'], ['1976414', '하홍주', 'hoduu@ewhain.net'], ['1976431', '황재민', 'jmhwang49@ewhain.net'], ['1976433', '황주이', 'ghkdwndl1004@ewhain.net'], ['1973082', '정이진', '298kcal@ewhain.net'], ['1985086', '임은지', 'eeeg001004@ewhain.net'], ['1944019', '이서영', 'goguma9176@ewhain.net'], ['1916011', '방현수', 'suusuu16@ewhain.net'], ['1968009', '박지윤', 'brainpark@ewhain.net'], ['1976129', '민소연', 'janet990430@ewhain.net'], ['1976348', '장혜연', 'munzimelo@ewhain.net']]\n"
          ],
          "name": "stdout"
        }
      ]
    },
    {
      "cell_type": "code",
      "metadata": {
        "id": "Msp4TXbTUBOU",
        "colab_type": "code",
        "colab": {}
      },
      "source": [
        ""
      ],
      "execution_count": null,
      "outputs": []
    },
    {
      "cell_type": "markdown",
      "metadata": {
        "id": "sL1DDg4Qd-Yp",
        "colab_type": "text"
      },
      "source": [
        "#**출석체크 코드**"
      ]
    },
    {
      "cell_type": "code",
      "metadata": {
        "id": "tuyYmETqWucH",
        "colab_type": "code",
        "colab": {
          "base_uri": "https://localhost:8080/",
          "height": 54
        },
        "outputId": "4d39b652-3d29-4740-b3b3-536d8b9ebc99"
      },
      "source": [
        "seminar1_attendance_list_t=[]\n",
        "\n",
        "with open ('/content/drive/My Drive/SW리더십세미나출석체크/attendance_list/0901_attendance.csv','r') as f:\n",
        "  reader_t = csv.reader(f)\n",
        "\n",
        "  for txt in reader_t:\n",
        "    seminar1_attendance_list_t.append(txt)\n",
        "print(seminar1_attendance_list_t)"
      ],
      "execution_count": null,
      "outputs": [
        {
          "output_type": "stream",
          "text": [
            "[['\\ufeff이름(원래 이름)', '사용자 이메일', '총 기간(분)'], ['1_1720057_정행복', '', '69'], ['2_1850057_나나나', '', '69'], ['1_8566666_아아아', 'aezjk56@gmail.com', '64'], ['박희진', '', '67'], ['1871056 한지수 (한지수)', '', '66'], ['장민지', '', '65'], ['1976297 이유림 (이유림)', '', '65'], ['박은성', '', '61'], ['1976355 정수진 (정수진)', '', '61'], ['Eewon Tai', '', '62'], ['1871036 이보연', '', '60'], ['구해인', '', '61'], ['1976346 장한나 (장한나)', '', '61'], ['임현지', '', '60'], ['1929013 김현서', '', '60'], ['하수민', '', '59'], ['신다영', '', '59'], ['1971056 허혜민 (허혜민)', '', '59'], ['1976215 안건희 (c조 1976215 안건희)', '', '41'], ['박가현 (2조-박가현(1876136))', '', '59'], ['1771047 이효정', '', '59'], ['1976370 조건희 (건희 조)', 'ghuijo@ewhain.net', '58'], ['조하연', '', '58'], ['오지현 1971028', '', '57'], ['강수지', '', '57'], ['이소정', '', '57'], ['정지현 (29_Student_JeongJihyeon)', '', '57'], ['1871014 김하정', 'kha0318@naver.com', '57'], ['1922058 전다윤 (전다윤)', 'dayoon000@gmail.com', '57'], ['유민지', '', '41'], ['노태경', 'wrtk007@ewhain.net', '57'], ['신민정 (신민정_1871025)', 'ydaispaxero@naver.com', '57'], ['이하경', '', '112'], ['김주연', '', '56'], ['최민지', '', '57'], ['유영민', '', '56'], ['이채은', '', '56'], ['1876025 김규랑 (김규랑)', '', '56'], ['박지수', '', '56'], ['강다연', '', '56'], ['박혜린', 'lets_gyu@naver.com', '56'], ['민경원', '', '56'], ['1968002 김민선 (1조-김민선(1968002))', '', '2'], ['1971054 최지민 (최지민)', '', '55'], ['변아름', '', '55'], ['김채윤', '', '55'], ['1729033 조은서 (조은서)', '', '55'], ['박수연 (박수연(사범대학 과학교육과))', '', '54'], ['김하연 (9기 김하연)', '', '54'], ['1971011 김수민 (김수민)', '', '55'], ['1771028 성혜린', '', '54'], ['1976333 임채민 (임채민)', '', '54'], ['1871012김태은1', '', '54'], ['1968002 김민선', '', '32'], ['1971039 이진경 (이진경)', '', '54'], ['1771054 최라윤', 'la9806@naver.com', '54'], ['1871094 조서연 (조서연)', '', '54'], ['1971003 강예진 (강예진)', 'yejin395@ewhain.net', '54'], ['1871051 정혜민', '', '54'], ['김보경-1771009', '', '54'], ['신인류', 'dellintel17@ewhain.net', '52'], ['박지윤 (박지윤(스크랜튼대학 융합학부))', '', '55'], ['1876375 정하늘 (정하늘)', '', '53'], ['1971036 이승미 (이승미(엘텍공과대학 소프트웨어학부))', '', '53'], ['전예진', '', '53'], ['유효민 1871030', '', '52'], ['1971006 권보경 (권보경)', '', '53'], ['1971027 오지은 (오지은)', '', '53'], ['1976220 안정민 (1976220- 안정민-PC)', '', '51'], ['1971038 이정민 (1971038이정민)', '', '53'], ['변현정 1976185', '', '53'], ['박채영', '', '53'], ['김유진', 'komgi8304@gmail.com', '54'], ['1971015 김은서 (김은서)', 'silver4550@ewhain.net', '52'], ['1822052 조민재 (1822052 조민재-COM)', '', '52'], ['임은지', '', '52'], ['최수정', '', '52'], ['안서연', '', '52'], ['1976067 김소현 (김소현)', '', '52'], ['1771038 원정연 (원정연 1771038)', '', '52'], ['공지나 (1842058공지나 2)', 'kongjn@naver.com', '52'], ['1871035 이다영 (1871035 _이다영)', '', '52'], ['1971017 노윤주 (노윤주)', '', '54'], ['1871047 장세영 (장세영)', '', '52'], ['심주영 (심주영)', '', '52'], ['1976002 강민아 (강민아)', '', '52'], ['홍 재령', 'fos0805@ewhain.net', '52'], ['1876062 김시연 (시연 김)', 'kims56849@ewhain.net', '52'], ['1976085 김정은 (.)', '', '52'], ['1771086 고승의', '', '51'], ['김성희(엘텍공과대학 소프트웨어학부)', '', '52'], ['오수현', '', '51'], ['하민지(2071050)', '', '1'], ['손효원', '', '51'], ['1971002 강민지 (강민지)', '', '51'], ['1976087 김제인', '', '6'], ['1717009 김지우', '', '43'], ['정희수', '', '51'], ['이로운', 'rhoanlee@gmail.com', '51'], ['이진솔 (1871042)', '', '50'], ['조서영-1976371', '', '46'], ['성재이 1770039', '', '46'], ['김재연-1743014', '', '45'], ['1871044 이하영 (이하영)', '', '31'], ['김채린(엘텍공과대학 소프트웨어학부)', '', '44'], ['1817022 조이린 (조이린)', '', '44'], ['양유진', '', '43'], ['전재원(엘텍공과대학 소프트웨어학부)', 'jjaewon97@ewhain.net', '42'], ['1971046 조예은 (행정팀장_조예은)', '', '41'], ['서수경 1928017 (서수경)', 'sukyeongseo@ewhain.net', '51'], ['지현숙', '', '51'], ['황주이', 'ghkdwndl1004@gmail.com', '51'], ['1871049 장진희 (. 1)', '', '51'], ['1871060 고은 (고은)', 'koeun0529@gmail.com', '51'], ['임아현(엘텍공과대학 소프트웨어학부)', '', '51'], ['정해인', 'sungshin52@ewhain.net', '51'], ['허서준', '', '51'], ['1916011 방현수 (방현수)', '', '51'], ['손수민', '', '50'], ['지운 김', 'isusie.k@gmail.com', '50'], ['하민지', '0321minji@ewhain.net', '43'], ['1976125 문정빈 (문정빈)', '', '51'], ['Jion Chu (1771111)', '', '50'], ['김다희 (김다희Daniela1)', '', '51'], ['1871008_ 김영은', '', '50'], ['1971058 홍진서 (홍진서)', 'hong_jinseo@ewhain.net', '51'], ['1976006 - 강수민', 'christie5430@gmail.com', '51'], ['1976411 하승진 (하승진(엘텍공과대학 소프트웨어학부))', 'hastar2027@ewhain.net', '50'], ['1971004 고주은 (고주은)', 'kjunewha@ewhain.net', '50'], ['김소민 (김소민-1976061)', 'thaxls@ewhain.net', '51'], ['박영빈', '', '53'], ['1871089 LU KETING (LU# KETING(엘텍공과대학 소프트웨어학부))', '', '50'], ['유예원1876238', 'yyw0518@gmail.com', '50'], ['하홍주', '', '50'], ['이서영', 'wow9176@naver.com', '50'], ['김규리 1771113 (김규리)', '', '42'], ['1871024 신다윤', '', '49'], ['1871019 _박혜진', 'h__jin14@ewhain.net', '50'], ['조서원 (seowon cho)', '', '50'], ['1968002 김민선 (김민선_1968002)', '', '24'], ['1773132 이다해 (이다해)', '', '50'], ['김연재 (연재 김)', 'yj12300@ewhain.net', '50'], ['1976191 성예진 (성예진)', '', '50'], ['김민주(엘텍공과대학 소프트웨어학부)', 'fantasi2000@ewhain.net', '50'], ['1871010 김지현 (김지현-1871010)', '', '41'], ['이소림', '', '49'], ['기수민-1868002', '', '50'], ['1876371 정아연 (정아연 1876371)', 'ribbon0529@naver.com', '49'], ['1971014 김예린 (김예린)', 'yerin1103@ewhain.net', '49'], ['김혜지(엘텍공과대학 소프트웨어학부)', '', '50'], ['문수인', '', '49'], ['최정화-1771109', '', '49'], ['1971010 김수민', '', '49'], ['1976348 장혜연 (장혜연)', '', '49'], ['이희원', '', '49'], ['1921061 최영은 (최영은)', '', '49'], ['박지윤', 'brainpark@ewhain.net', '3'], ['1720057 정행복 (정행복_ 1720057)', 'hamdoong222@gmail.com', '49'], ['조정민 (조정민(엘텍공과대학 소프트웨어학부))', '', '49'], ['1876420 최윤재 (최윤재)', '', '49'], ['1876007 고승희 (고승희)', '', '49'], ['1976255 윤하은 (윤하은)', '', '49'], ['1971049 채지은 (채지은)', '', '49'], ['이경민-1871034', '', '49'], ['백지희(엘텍공과대학 소프트웨어학부)', 'ashely0209@ewhain.net', '48'], ['Taehee Kim', '', '49'], ['1871017 민은영 (으녕)', '', '49'], ['1976349 장효신 (Hyosin Jang)', '', '49'], ['현오주', '', '49'], ['1971005 권민아 (권민아)', '', '49'], ['1876097 김지현 (김지현)', 'seonyul0128@gmail.com', '49'], ['규원 김', 'cathy0123@naver.com', '48'], ['박채린', 'chrpark11@ewhain.net', '49'], ['1971007 김시정 (김시정)', '', '48'], ['1971052 최예원 (최예원1971052)', '', '48'], ['1976053 김민주 (김민주)', '', '46'], ['맹수연', '', '48'], ['정문정 1971043', '', '48'], ['1871002 권정솔 (권정솔)', '', '48'], ['김현수', 'hieonn@ewha.ac.kr', '50'], ['김승언', '', '48'], ['1971040 이현정 (이현정)', 'leehj000920@naver.com', '48'], ['1971033 이서영', '', '50'], ['박지원(호크마교양대학 호크마교양대학)', 'mary000605@ewhain.net', '48'], ['1871032 윤하정 (오오옹)', '', '48'], ['2076006 강한나(호크마교양대학 호크마교양대학)', '', '1'], ['1971008 김민정 (김민정)', '', '36'], ['이수현(스크랜튼대학 융합학부)', 'suleengine@ewhain.net', '48'], ['1771051 정예림 (정예림(엘텍공과대학 소프트웨어학부))', '', '48'], ['하형 임', 'hahyeong_0817@ewhain.net', '47'], ['1871048 장이제 (장이제(엘텍공과대학 소프트웨어학부))', 'yds04312@ewhain.net', '47'], ['1976253 윤수지 (10208 윤채임)', '', '47'], ['1971031 이가영 (이가영(엘텍공과대학 소프트웨어학부))', '', '28'], ['1971053 최예은 (최예은)', '', '47'], ['박주은', '', '36'], ['설유진', '', '47'], ['1871006 김선우 (선우 김)', '', '21'], ['이유정(엘텍공과대학 소프트웨어학부)', '', '29'], ['박현아 (박현아)', '', '29'], ['강한나(호크마교양대학 호크마교양대학)', '', '47'], ['윤하영(1868008)', '', '46'], ['박나희', 'jessica396@naver.com', '47'], ['1983024 최민교 (최민교)', '', '46'], ['민소연', '', '46'], ['김제인 1976087', '', '48'], ['장재원 (개싫모 수장)', '', '5'], ['gaeun lee', 'gaeungaeun4837@gmail.com', '30'], ['장재원', '', '31'], ['이서경', '', '18'], ['김 정민', 'jeongmin0723@ewhain.net', '35'], ['1976108 김혜진', 'wcb1866@ewhain.net', '33'], ['황수민', '', '29'], ['이지민', '', '22'], ['1971031 이가영', '', '21'], ['권영경', 'cownleo@naver.com', '20'], ['이유정(엘텍공과대학 소프트웨어학부)', 'dldbwjd24@ewhain.net', '19'], ['1976141 박수연 (박수연)', 'sxxyxxn75@ewhain.net', '14'], ['개싫모 수장', 'jone230c@gmail.com', '13'], ['1971013 김연희 (조교2)', '', '10'], ['성아정(엘텍공과대학 소프트웨어학부)', 'azng1217@ewhain.net', '44'], ['1976157 박지은 (지은)', '', '43'], ['장수민(엘텍공과대학 소프트웨어학부)', '', '43'], ['류한아(엘텍공과대학 소프트웨어학부)', '', '42'], ['박지현', '', '44'], ['1771016 김은지', '', '38'], ['수민 홍', '', '26'], ['유현정', 'yhyeonjg@naver.com', '40'], ['김현지', '', '38'], ['한 서영', 'syeong622@gmail.com', '37'], ['1871092 이정하 (이정하)', 'jmirrinae@ewhain.net', '37'], ['1971023 배주연', '', '14'], ['1976431 황재민 (재민 황)', 'jmhwang49@ewhain.net', '4'], ['1976431 황재민 (황재민)', '', '28'], ['한다현', '', '26']]\n"
          ],
          "name": "stdout"
        }
      ]
    },
    {
      "cell_type": "code",
      "metadata": {
        "id": "u72-cVBCYUM0",
        "colab_type": "code",
        "colab": {
          "base_uri": "https://localhost:8080/",
          "height": 34
        },
        "outputId": "662f1220-5e91-4c7b-f8ff-90f99b7f7e9a"
      },
      "source": [
        "seminar1_attendance_dic_t={} #학번:기간\n",
        "for i in seminar1_attendance_list_t[1:]:\n",
        "  #1분반 또는 2분반설정을 하지 않으면 출석제외\n",
        "  if(i[0].split('_')[0] != '1' and i[0].split('_')[0] != '2'): continue\n",
        "  #학번이 7자리가 아닌경우 출석 제외\n",
        "  if(len(i[0].split('_')[1]) != 7): continue\n",
        "  #학번이 0, 1, 2로 시작하지 않는 경우 출석 제외\n",
        "  if(i[0].split('_')[1][0] != '0' and i[0].split('_')[1][0] != '1' and i[0].split('_')[1][0] != '2'): continue\n",
        "  #만약 학번이 겹치는 학생의 경우(재접속) 출석시간 누적\n",
        "  if(i[0].split('_')[1] in seminar1_attendance_dic_t):\n",
        "    seminar1_attendance_dic_t[i[0].split('_')[0],i[0].split('_')[1],i[0].split('_')[2]]+=int(i[2])\n",
        "  else:\n",
        "    seminar1_attendance_dic_t[i[0].split('_')[0],i[0].split('_')[1],i[0].split('_')[2]]=int(i[2])\n",
        "#주어진 아이디 양식을 만족하는 참석자 명단\n",
        "print(seminar1_attendance_dic_t)"
      ],
      "execution_count": null,
      "outputs": [
        {
          "output_type": "stream",
          "text": [
            "{('1', '1720057', '정행복'): 69, ('2', '1850057', '나나나'): 69}\n"
          ],
          "name": "stdout"
        }
      ]
    },
    {
      "cell_type": "code",
      "metadata": {
        "id": "8r_40afBa41L",
        "colab_type": "code",
        "colab": {
          "base_uri": "https://localhost:8080/",
          "height": 52
        },
        "outputId": "aa7ea59a-86f5-46e4-ff52-24f961f61dbc"
      },
      "source": [
        "print(\"지각 명단은 다음과 같습니다.\\n\")\n",
        "for key,value in seminar1_attendance_dic_t.items():\n",
        "  #print(key,value)\n",
        "  if (value<65):\n",
        "    print(key)"
      ],
      "execution_count": null,
      "outputs": [
        {
          "output_type": "stream",
          "text": [
            "지각 명단은 다음과 같습니다.\n",
            "\n"
          ],
          "name": "stdout"
        }
      ]
    }
  ]
}